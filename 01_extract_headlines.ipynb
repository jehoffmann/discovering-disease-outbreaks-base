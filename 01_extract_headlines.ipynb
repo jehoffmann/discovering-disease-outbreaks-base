{
 "cells": [
  {
   "cell_type": "code",
   "execution_count": 5,
   "metadata": {
    "collapsed": true,
    "pycharm": {
     "name": "#%%\n"
    }
   },
   "outputs": [
    {
     "data": {
      "text/plain": "                                              Headline Country           City\n0                           Zika Outbreak Hits Miami\\n     NaN          Miami\n1                    Could Zika Reach New York City?\\n     NaN  New York City\n2                  First Case of Zika in Miami Beach\\n     NaN             of\n3            Mystery Virus Spreads in Recife, Brazil\\n  Brazil         Recife\n4            Dallas man comes down with case of Zika\\n     NaN         Dallas\n..                                                 ...     ...            ...\n614  Rumors about Rabies spreading in Jerusalem hav...     NaN      Jerusalem\n615            More Zika patients reported in Indang\\n     NaN         Indang\n616  Suva authorities confirmed the spread of Rotav...     NaN           Suva\n617       More Zika patients reported in Bella Vista\\n     NaN    Bella Vista\n618                   Zika Outbreak in Wichita Falls\\n     NaN  Wichita Falls\n\n[619 rows x 3 columns]",
      "text/html": "<div>\n<style scoped>\n    .dataframe tbody tr th:only-of-type {\n        vertical-align: middle;\n    }\n\n    .dataframe tbody tr th {\n        vertical-align: top;\n    }\n\n    .dataframe thead th {\n        text-align: right;\n    }\n</style>\n<table border=\"1\" class=\"dataframe\">\n  <thead>\n    <tr style=\"text-align: right;\">\n      <th></th>\n      <th>Headline</th>\n      <th>Country</th>\n      <th>City</th>\n    </tr>\n  </thead>\n  <tbody>\n    <tr>\n      <th>0</th>\n      <td>Zika Outbreak Hits Miami\\n</td>\n      <td>NaN</td>\n      <td>Miami</td>\n    </tr>\n    <tr>\n      <th>1</th>\n      <td>Could Zika Reach New York City?\\n</td>\n      <td>NaN</td>\n      <td>New York City</td>\n    </tr>\n    <tr>\n      <th>2</th>\n      <td>First Case of Zika in Miami Beach\\n</td>\n      <td>NaN</td>\n      <td>of</td>\n    </tr>\n    <tr>\n      <th>3</th>\n      <td>Mystery Virus Spreads in Recife, Brazil\\n</td>\n      <td>Brazil</td>\n      <td>Recife</td>\n    </tr>\n    <tr>\n      <th>4</th>\n      <td>Dallas man comes down with case of Zika\\n</td>\n      <td>NaN</td>\n      <td>Dallas</td>\n    </tr>\n    <tr>\n      <th>5</th>\n      <td>Trinidad confirms first Zika case\\n</td>\n      <td>NaN</td>\n      <td>Trinidad</td>\n    </tr>\n    <tr>\n      <th>6</th>\n      <td>Zika Concerns are Spreading in Houston\\n</td>\n      <td>NaN</td>\n      <td>Houston</td>\n    </tr>\n    <tr>\n      <th>7</th>\n      <td>Geneve Scientists Battle to Find Cure\\n</td>\n      <td>NaN</td>\n      <td>Geneve</td>\n    </tr>\n    <tr>\n      <th>8</th>\n      <td>The CDC in Atlanta is Growing Worried\\n</td>\n      <td>NaN</td>\n      <td>Atlanta</td>\n    </tr>\n    <tr>\n      <th>9</th>\n      <td>Zika Infested Monkeys in Sao Paulo\\n</td>\n      <td>NaN</td>\n      <td>Sao Paulo</td>\n    </tr>\n    <tr>\n      <th>10</th>\n      <td>Brownsville teen contracts Zika virus\\n</td>\n      <td>NaN</td>\n      <td>Brownsville</td>\n    </tr>\n    <tr>\n      <th>11</th>\n      <td>Mosquito control efforts in St. Louis take new...</td>\n      <td>NaN</td>\n      <td>St. Louis</td>\n    </tr>\n    <tr>\n      <th>12</th>\n      <td>San Juan reports 1st U.S. Zika-related death a...</td>\n      <td>NaN</td>\n      <td>San Juan</td>\n    </tr>\n    <tr>\n      <th>13</th>\n      <td>Flu outbreak in Galveston, Texas\\n</td>\n      <td>NaN</td>\n      <td>Galveston</td>\n    </tr>\n    <tr>\n      <th>14</th>\n      <td>Zika alert – Manila now threatened\\n</td>\n      <td>NaN</td>\n      <td>Manila</td>\n    </tr>\n    <tr>\n      <th>15</th>\n      <td>Zika afflicts 7 in Iloilo City\\n</td>\n      <td>NaN</td>\n      <td>Iloilo</td>\n    </tr>\n    <tr>\n      <th>16</th>\n      <td>New Los Angeles Hairstyle goes Viral\\n</td>\n      <td>NaN</td>\n      <td>Los Angeles</td>\n    </tr>\n    <tr>\n      <th>17</th>\n      <td>Orlando volunteers aid Zika research\\n</td>\n      <td>NaN</td>\n      <td>Orlando</td>\n    </tr>\n    <tr>\n      <th>18</th>\n      <td>Chicago's First Zika Case Confirmed\\n</td>\n      <td>NaN</td>\n      <td>Chicago</td>\n    </tr>\n    <tr>\n      <th>19</th>\n      <td>Tampa Bay Area Zika Case Count Climbs\\n</td>\n      <td>NaN</td>\n      <td>Tampa</td>\n    </tr>\n    <tr>\n      <th>20</th>\n      <td>Bad Water Leads to Sickness in Flint, Michigan\\n</td>\n      <td>NaN</td>\n      <td>Flint</td>\n    </tr>\n    <tr>\n      <th>21</th>\n      <td>Baltimore plans for Zika virus\\n</td>\n      <td>NaN</td>\n      <td>Baltimore</td>\n    </tr>\n    <tr>\n      <th>22</th>\n      <td>London Health Unit Tracks Mad Cow Disease\\n</td>\n      <td>NaN</td>\n      <td>London</td>\n    </tr>\n    <tr>\n      <th>23</th>\n      <td>Zika cases in Vietnam's Ho Chi Minh City surge\\n</td>\n      <td>Vietnam</td>\n      <td>Ho Chi Minh City</td>\n    </tr>\n    <tr>\n      <th>24</th>\n      <td>Philadelphia experts track pandemic\\n</td>\n      <td>NaN</td>\n      <td>Philadelphia</td>\n    </tr>\n    <tr>\n      <th>25</th>\n      <td>Flu season hits Boston\\n</td>\n      <td>NaN</td>\n      <td>Boston</td>\n    </tr>\n    <tr>\n      <th>26</th>\n      <td>Scientists in Paris to look for answers\\n</td>\n      <td>NaN</td>\n      <td>Paris</td>\n    </tr>\n    <tr>\n      <th>27</th>\n      <td>Key Zika Findings in San Diego Institute\\n</td>\n      <td>NaN</td>\n      <td>San Diego</td>\n    </tr>\n    <tr>\n      <th>28</th>\n      <td>Thailand-Zika Virus in Bangkok\\n</td>\n      <td>Thailand</td>\n      <td>Bangkok</td>\n    </tr>\n    <tr>\n      <th>29</th>\n      <td>Beijing team cracks Zika secret\\n</td>\n      <td>NaN</td>\n      <td>Beijing</td>\n    </tr>\n    <tr>\n      <th>...</th>\n      <td>...</td>\n      <td>...</td>\n      <td>...</td>\n    </tr>\n    <tr>\n      <th>589</th>\n      <td>Mad Cow Disease Detected in Lyon\\n</td>\n      <td>NaN</td>\n      <td>Lyon</td>\n    </tr>\n    <tr>\n      <th>590</th>\n      <td>Memphis Encounters Severe Symptoms of Swine Flu\\n</td>\n      <td>NaN</td>\n      <td>Memphis</td>\n    </tr>\n    <tr>\n      <th>591</th>\n      <td>Zika Troubles come to Delray Beach\\n</td>\n      <td>NaN</td>\n      <td>come</td>\n    </tr>\n    <tr>\n      <th>592</th>\n      <td>How to Avoid Chikungunya in Hampton\\n</td>\n      <td>NaN</td>\n      <td>Hampton</td>\n    </tr>\n    <tr>\n      <th>593</th>\n      <td>Zika Reported in Sao Jose\\n</td>\n      <td>NaN</td>\n      <td>Sao Jose</td>\n    </tr>\n    <tr>\n      <th>594</th>\n      <td>Case of Norovirus Reported in Stratford\\n</td>\n      <td>NaN</td>\n      <td>of</td>\n    </tr>\n    <tr>\n      <th>595</th>\n      <td>How to Avoid Hepatitis E in South Bend\\n</td>\n      <td>NaN</td>\n      <td>South Bend</td>\n    </tr>\n    <tr>\n      <th>596</th>\n      <td>Hepatitis C Outbreak in Bethlehem\\n</td>\n      <td>NaN</td>\n      <td>Bethlehem</td>\n    </tr>\n    <tr>\n      <th>597</th>\n      <td>Davenport is infested with Dengue\\n</td>\n      <td>NaN</td>\n      <td>Davenport</td>\n    </tr>\n    <tr>\n      <th>598</th>\n      <td>Rumors about Swine Flu spreading in Suzhou hav...</td>\n      <td>NaN</td>\n      <td>Suzhou</td>\n    </tr>\n    <tr>\n      <th>599</th>\n      <td>Malaria Vaccine is now Required in Elyria\\n</td>\n      <td>NaN</td>\n      <td>Elyria</td>\n    </tr>\n    <tr>\n      <th>600</th>\n      <td>Case of Swine Flu Reported in Tbilisi\\n</td>\n      <td>NaN</td>\n      <td>of</td>\n    </tr>\n    <tr>\n      <th>601</th>\n      <td>Influenza Keeps Spreading in Suffolk\\n</td>\n      <td>NaN</td>\n      <td>Suffolk</td>\n    </tr>\n    <tr>\n      <th>602</th>\n      <td>More people in Allentown are infected with Chl...</td>\n      <td>NaN</td>\n      <td>Allentown</td>\n    </tr>\n    <tr>\n      <th>603</th>\n      <td>Mad Cow Disease re-emerges in Bedford\\n</td>\n      <td>NaN</td>\n      <td>Bedford</td>\n    </tr>\n    <tr>\n      <th>604</th>\n      <td>Authorities are Worried about the Spread of He...</td>\n      <td>NaN</td>\n      <td>of</td>\n    </tr>\n    <tr>\n      <th>605</th>\n      <td>Zika Outbreak in Yurimaguas\\n</td>\n      <td>NaN</td>\n      <td>Yurimaguas</td>\n    </tr>\n    <tr>\n      <th>606</th>\n      <td>Dengue Outbreak in Easton\\n</td>\n      <td>NaN</td>\n      <td>Easton</td>\n    </tr>\n    <tr>\n      <th>607</th>\n      <td>Varicella has Arrived in Milton\\n</td>\n      <td>NaN</td>\n      <td>Milton</td>\n    </tr>\n    <tr>\n      <th>608</th>\n      <td>New medicine wipes out Meningitis in Sevilla\\n</td>\n      <td>NaN</td>\n      <td>Sevilla</td>\n    </tr>\n    <tr>\n      <th>609</th>\n      <td>Authorities are Worried about the Spread of Va...</td>\n      <td>NaN</td>\n      <td>of</td>\n    </tr>\n    <tr>\n      <th>610</th>\n      <td>More Zika patients reported in Fort Worth\\n</td>\n      <td>NaN</td>\n      <td>Fort Worth</td>\n    </tr>\n    <tr>\n      <th>611</th>\n      <td>Zika symptoms spotted in Boynton Beach\\n</td>\n      <td>NaN</td>\n      <td>Boynton Beach</td>\n    </tr>\n    <tr>\n      <th>612</th>\n      <td>Outbreak of Zika in Portoviejo\\n</td>\n      <td>NaN</td>\n      <td>of</td>\n    </tr>\n    <tr>\n      <th>613</th>\n      <td>Influenza Exposure in Muscat\\n</td>\n      <td>NaN</td>\n      <td>Muscat</td>\n    </tr>\n    <tr>\n      <th>614</th>\n      <td>Rumors about Rabies spreading in Jerusalem hav...</td>\n      <td>NaN</td>\n      <td>Jerusalem</td>\n    </tr>\n    <tr>\n      <th>615</th>\n      <td>More Zika patients reported in Indang\\n</td>\n      <td>NaN</td>\n      <td>Indang</td>\n    </tr>\n    <tr>\n      <th>616</th>\n      <td>Suva authorities confirmed the spread of Rotav...</td>\n      <td>NaN</td>\n      <td>Suva</td>\n    </tr>\n    <tr>\n      <th>617</th>\n      <td>More Zika patients reported in Bella Vista\\n</td>\n      <td>NaN</td>\n      <td>Bella Vista</td>\n    </tr>\n    <tr>\n      <th>618</th>\n      <td>Zika Outbreak in Wichita Falls\\n</td>\n      <td>NaN</td>\n      <td>Wichita Falls</td>\n    </tr>\n  </tbody>\n</table>\n<p>619 rows × 3 columns</p>\n</div>"
     },
     "execution_count": 5,
     "metadata": {},
     "output_type": "execute_result"
    }
   ],
   "source": [
    "import geonamescache\n",
    "import unidecode\n",
    "import pandas as pd\n",
    "import re\n",
    "\n",
    "def normalize(text):\n",
    "    return unidecode.unidecode(text.strip())\n",
    "\n",
    "# Get city names from geonamecache\n",
    "gc = geonamescache.GeonamesCache()\n",
    "cities = gc.get_cities()\n",
    "\n",
    "city_names = []\n",
    "for c in cities:\n",
    "    cn = normalize(cities[c]['name'])\n",
    "    city_names.append(cn)\n",
    "    city_names.sort(reverse=True)\n",
    "city_name_regex = r\"(\"+r\"\\b|\\b\".join(city_names)+r\")\"\n",
    "city_name_regex = re.compile(city_name_regex, flags = re.IGNORECASE)\n",
    "\n",
    "countries = gc.get_countries()\n",
    "country_names = []\n",
    "for c in countries:\n",
    "    cn = normalize(countries[c]['name'])\n",
    "    country_names.append(cn)\n",
    "country_name_regex = r\"(\"+r\"\\b|\\b\".join(country_names)+r\")\"\n",
    "country_name_regex = re.compile(country_name_regex, flags=re.IGNORECASE)\n",
    "\n",
    "data_frame = pd.DataFrame(columns=['Headline', 'Country', 'City'])\n",
    "\n",
    "headlines = []\n",
    "file = open(\"data/headlines.txt\", 'r')\n",
    "for l in file.readlines():\n",
    "    city_match = city_name_regex.search(normalize(l))\n",
    "    country = 'NaN'\n",
    "    if city_match:\n",
    "        city_start, city_end = city_match.start(), city_match.end()\n",
    "        country_match = country_name_regex.search(normalize(l))\n",
    "        if country_match:\n",
    "            country = l[country_match.start():country_match.end()]\n",
    "\n",
    "        headlines.append({'Headline':l, 'Country': country, 'City' : l[city_start:city_end]})\n",
    "\n",
    "data_frame.append(headlines)"
   ]
  }
 ],
 "metadata": {
  "kernelspec": {
   "name": "python3",
   "language": "python",
   "display_name": "Python 3"
  },
  "language_info": {
   "codemirror_mode": {
    "name": "ipython",
    "version": 2
   },
   "file_extension": ".py",
   "mimetype": "text/x-python",
   "name": "python",
   "nbconvert_exporter": "python",
   "pygments_lexer": "ipython2",
   "version": "3.7.6-final"
  }
 },
 "nbformat": 4,
 "nbformat_minor": 1
}